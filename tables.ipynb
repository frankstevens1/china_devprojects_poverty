{
 "cells": [
  {
   "cell_type": "code",
   "execution_count": null,
   "metadata": {},
   "outputs": [],
   "source": [
    "cnfin = pd.read_csv(\"cnfin.csv\", index_col=0)"
   ]
  },
  {
   "cell_type": "code",
   "execution_count": null,
   "metadata": {},
   "outputs": [],
   "source": [
    "a1 = cnfin.pivot_table(index = 'crs_sector_name', values = 'project_location_id', aggfunc = 'count')\n",
    "a2 = cnfin.pivot_table(index = 'crs_sector_name', values = 'even_split_commitments', aggfunc = 'sum')\n",
    "b1 = cnfin.pivot_table(index = 'flow_class', values = 'project_location_id', aggfunc = 'count')\n",
    "b2 = cnfin.pivot_table(index = 'flow_class', values = 'even_split_commitments', aggfunc = 'sum')\n",
    "c1 = cnfin.pivot_table(index = ['flow_class', 'crs_sector_name'], values = 'project_location_id', aggfunc = 'count')\n",
    "c2 = cnfin.pivot_table(index = ['flow_class', 'crs_sector_name'], values = 'even_split_commitments', aggfunc = 'sum')\n",
    "a = pd.merge(a1, a2, how=\"outer\", on=['crs_sector_name']).sort_values(by='project_location_id', ascending=False)\n",
    "a = a.fillna(0)\n",
    "a.even_split_commitments = a.even_split_commitments / 1000000\n",
    "a = a.round(2)\n",
    "b = pd.merge(b1, b2, how=\"outer\", on=['flow_class']).sort_values(by='project_location_id', ascending=False)\n",
    "b = b.fillna(0)\n",
    "b.even_split_commitments = b.even_split_commitments / 1000000\n",
    "b = b.round(2)\n",
    "c = pd.merge(c1, c2, how=\"outer\", on=['flow_class', 'crs_sector_name']).sort_values(by='project_location_id', ascending=False).reset_index()\n",
    "c = c.pivot(index='crs_sector_name', columns='flow_class')\n",
    "c = c.fillna(0)\n",
    "c.even_split_commitments = c.even_split_commitments / 1000000\n",
    "c = c.round(2)\n",
    "display(a, b, c)"
   ]
  },
  {
   "cell_type": "code",
   "execution_count": null,
   "metadata": {},
   "outputs": [],
   "source": [
    "a.to_csv('a.csv', encoding='utf-8')\n",
    "b.to_csv('b.csv', encoding='utf-8')\n",
    "c.to_csv('c.csv', encoding='utf-8')"
   ]
  }
 ],
 "metadata": {
  "kernelspec": {
   "display_name": "mtenv",
   "language": "python",
   "name": "mtenv"
  },
  "language_info": {
   "codemirror_mode": {
    "name": "ipython",
    "version": 3
   },
   "file_extension": ".py",
   "mimetype": "text/x-python",
   "name": "python",
   "nbconvert_exporter": "python",
   "pygments_lexer": "ipython3",
   "version": "3.8.2"
  }
 },
 "nbformat": 4,
 "nbformat_minor": 4
}
